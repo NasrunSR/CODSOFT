{
  "nbformat": 4,
  "nbformat_minor": 0,
  "metadata": {
    "colab": {
      "provenance": [],
      "authorship_tag": "ABX9TyMSfI++8FbmSERev1vDNezl",
      "include_colab_link": true
    },
    "kernelspec": {
      "name": "python3",
      "display_name": "Python 3"
    },
    "language_info": {
      "name": "python"
    }
  },
  "cells": [
    {
      "cell_type": "markdown",
      "metadata": {
        "id": "view-in-github",
        "colab_type": "text"
      },
      "source": [
        "<a href=\"https://colab.research.google.com/github/NasrunSR/CODSOFT/blob/main/CHATBOT_WITH_RULE_BASED_RESPONSES.ipynb\" target=\"_parent\"><img src=\"https://colab.research.google.com/assets/colab-badge.svg\" alt=\"Open In Colab\"/></a>"
      ]
    },
    {
      "cell_type": "code",
      "execution_count": 1,
      "metadata": {
        "id": "Ar_xZ5V-4Rsu"
      },
      "outputs": [],
      "source": [
        "#Importing the required libraries\n",
        "import re\n",
        "import random"
      ]
    },
    {
      "cell_type": "code",
      "source": [
        "#Chatbot class\n",
        "class rule_chatbot:\n",
        "\n",
        "  def __init__(self, language1, language2, language3):\n",
        "        self.languages = [language1, language2, language3]\n",
        "        self.vocabulary = {\n",
        "            'hello': {'translations': {'English': 'hello', language1: 'hola', language2: 'bonjour', language3: 'hallo'}, 'part_of_speech': 'greeting'},\n",
        "            'goodbye': {'translations': {'English': 'goodbye', language1: 'adiós', language2: 'au revoir', language3: 'verabschiedung'}, 'part_of_speech': 'farewell'},\n",
        "            'thank you': {'translations': {'English': 'thank you', language1: 'gracias', language2: 'merci', language3: 'danke'}, 'part_of_speech': 'expression of gratitude'},\n",
        "        }\n",
        "        self.selected_language = None\n",
        "\n",
        "  def start_learning(self):\n",
        "        while True:\n",
        "            self.learn_word()\n",
        "            continue_learning = input(\"Do you want to continue learning? (yes/no): \").lower()\n",
        "            if continue_learning != 'yes':\n",
        "                print(\"Thank you for learning with us. Have a good day!\\n\")\n",
        "                break\n",
        "\n",
        "  def learn_word(self):\n",
        "    word = random.choice(list(self.vocabulary.keys()))\n",
        "    translations = self.vocabulary[word]['translations']\n",
        "    part_of_speech = self.vocabulary[word]['part_of_speech']\n",
        "\n",
        "    print(f\"Your word to learn: {word.capitalize()} (Part of speech: {part_of_speech})\")\n",
        "    print(f\"Translations:\")\n",
        "    print(f\"{self.selected_language.capitalize()}: {translations[self.selected_language]}\\n\")\n",
        "\n",
        "    user_translation = input(f\"Enter the translation in {self.selected_language.capitalize()}: \").lower()\n",
        "\n",
        "    if user_translation == translations[self.selected_language]:\n",
        "      print(\"Correct! Nice work!\")\n",
        "    else:\n",
        "      print(f\"Incorrect! The correct translation is: {translations[self.selected_language].capitalize()}\")\n",
        "\n",
        "\n",
        "  def greet(self):\n",
        "    self.name = input(\"What is your name?\\n\")\n",
        "    print(f\"Hi {self.name}, I am Wall-E. We warmly welcome you here.\\n\")\n",
        "\n",
        "  def make_exit(self, reply):\n",
        "    for command in self.exit_commands:\n",
        "      if reply == command:\n",
        "        print(\"Okay, have a good day! See you soon!\")\n",
        "        return True\n",
        "\n",
        "  def choose_language(self):\n",
        "    self.greet()\n",
        "    print(\"Available languages:\")\n",
        "    for index, lang in enumerate(self.languages, start=1):\n",
        "        print(f\"{index}. {lang}\")\n",
        "\n",
        "    while True:\n",
        "      choice = input(\"Choose the language by entering the corresponding number: \")\n",
        "      if choice.isdigit() and 1 <= int(choice) <= len(self.languages):\n",
        "        self.selected_language = self.languages[int(choice) - 1]\n",
        "        print(f\"Let's start learning {self.selected_language}!\\n\")\n",
        "        break\n",
        "      else:\n",
        "        print(\"Choice is invalid. Please enter a valid number.\")\n",
        "\n",
        "\n",
        "# Create an instance of the rule_chatbot\n",
        "language_bot = rule_chatbot(language1='Spanish', language2='French', language3='German')\n",
        "\n",
        "# Choose the language\n",
        "language_bot.choose_language()\n",
        "\n",
        "# Start learning the choosen language\n",
        "language_bot.start_learning()\n"
      ],
      "metadata": {
        "id": "AbDn-jzu4Ww_",
        "colab": {
          "base_uri": "https://localhost:8080/"
        },
        "outputId": "10a2b370-cdc2-4792-e875-1e250d7f62b5"
      },
      "execution_count": 3,
      "outputs": [
        {
          "output_type": "stream",
          "name": "stdout",
          "text": [
            "What is your name?\n",
            "Nasrun\n",
            "Hi Nasrun, I am Wall-E. We warmly welcome you here.\n",
            "\n",
            "Available languages:\n",
            "1. Spanish\n",
            "2. French\n",
            "3. German\n",
            "Choose the language by entering the corresponding number: 1\n",
            "Let's start learning Spanish!\n",
            "\n",
            "Your word to learn: Hello (Part of speech: greeting)\n",
            "Translations:\n",
            "Spanish: hola\n",
            "\n",
            "Enter the translation in Spanish: Hola\n",
            "Correct! Nice work!\n",
            "Do you want to continue learning? (yes/no): yes\n",
            "Your word to learn: Goodbye (Part of speech: farewell)\n",
            "Translations:\n",
            "Spanish: adiós\n",
            "\n",
            "Enter the translation in Spanish: adiós\n",
            "Correct! Nice work!\n",
            "Do you want to continue learning? (yes/no): no\n",
            "Thank you for learning with us. Have a good day!\n",
            "\n"
          ]
        }
      ]
    }
  ]
}